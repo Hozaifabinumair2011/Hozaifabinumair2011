{
  "nbformat": 4,
  "nbformat_minor": 0,
  "metadata": {
    "colab": {
      "provenance": [],
      "authorship_tag": "ABX9TyOYVzJczt0uZlDxV8vr+/Gf",
      "include_colab_link": true
    },
    "kernelspec": {
      "name": "python3",
      "display_name": "Python 3"
    },
    "language_info": {
      "name": "python"
    }
  },
  "cells": [
    {
      "cell_type": "markdown",
      "metadata": {
        "id": "view-in-github",
        "colab_type": "text"
      },
      "source": [
        "<a href=\"https://colab.research.google.com/github/Hozaifabinumair2011/Hozaifabinumair2011/blob/main/Time_space_complexcity.ipynb\" target=\"_parent\"><img src=\"https://colab.research.google.com/assets/colab-badge.svg\" alt=\"Open In Colab\"/></a>"
      ]
    },
    {
      "cell_type": "code",
      "execution_count": 1,
      "metadata": {
        "colab": {
          "base_uri": "https://localhost:8080/"
        },
        "id": "Livkx50brMev",
        "outputId": "15d1457b-add2-41c1-c620-f0f2870f264d"
      },
      "outputs": [
        {
          "output_type": "stream",
          "name": "stdout",
          "text": [
            "10.0\n"
          ]
        }
      ],
      "source": [
        "def abc(n):\n",
        "  return n*(n+1)/2\n",
        "print(abc(4))"
      ]
    },
    {
      "cell_type": "code",
      "source": [
        "def abc(n):\n",
        "  sum=0\n",
        "  for i in range (1,n+1):\n",
        "    sum=sum+i\n",
        "  return sum\n",
        "print(abc(4))"
      ],
      "metadata": {
        "colab": {
          "base_uri": "https://localhost:8080/"
        },
        "id": "UOwgw9--sCdi",
        "outputId": "c4361956-149f-4a17-f3ad-27a73c27db3a"
      },
      "execution_count": 10,
      "outputs": [
        {
          "output_type": "stream",
          "name": "stdout",
          "text": [
            "10\n"
          ]
        }
      ]
    },
    {
      "cell_type": "code",
      "source": [
        "def abc(n):\n",
        "  sum=0\n",
        "  for i in range (1,n+1):\n",
        "    for j in range (1,i+1):\n",
        "      sum=sum+i\n",
        "  return sum\n",
        "print(abc(4))"
      ],
      "metadata": {
        "colab": {
          "base_uri": "https://localhost:8080/"
        },
        "id": "ddrmTmPGsmA5",
        "outputId": "05d65302-6168-4d67-ddf8-bcff00002d1f"
      },
      "execution_count": 8,
      "outputs": [
        {
          "output_type": "stream",
          "name": "stdout",
          "text": [
            "30\n"
          ]
        }
      ]
    },
    {
      "cell_type": "code",
      "source": [
        "def abc(n):\n",
        "  a=1\n",
        "  for i in range (1,n+1):\n",
        "    for j in range (1,i+1):\n",
        "      a=a*i\n",
        "  return a\n",
        "print(abc(4))"
      ],
      "metadata": {
        "colab": {
          "base_uri": "https://localhost:8080/"
        },
        "id": "IXO9HGBdvbIx",
        "outputId": "670366ab-1350-442e-cc35-afb1351bafe6"
      },
      "execution_count": 12,
      "outputs": [
        {
          "output_type": "stream",
          "name": "stdout",
          "text": [
            "27648\n"
          ]
        }
      ]
    }
  ]
}